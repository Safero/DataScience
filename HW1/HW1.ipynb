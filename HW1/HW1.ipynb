{
 "cells": [
  {
   "cell_type": "markdown",
   "metadata": {},
   "source": [
    "First, we import the modules we'd like to use."
   ]
  },
  {
   "cell_type": "code",
   "execution_count": 29,
   "metadata": {},
   "outputs": [],
   "source": [
    "import jieba\n",
    "jieba.set_dictionary('jieba\\dict.txt')\n",
    "import operator\n",
    "import statistics\n",
    "import pandas as pd\n",
    "import numpy as np\n",
    "import matplotlib.pyplot as plt\n",
    "import matplotlib.font_manager as font_manager\n",
    "from datetime import datetime\n",
    "from collections import Counter"
   ]
  },
  {
   "cell_type": "markdown",
   "metadata": {},
   "source": [
    "Next we read the raw data, as well as print the head to see what it looks like."
   ]
  },
  {
   "cell_type": "code",
   "execution_count": 30,
   "metadata": {},
   "outputs": [
    {
     "data": {
      "text/html": [
       "<div>\n",
       "<style scoped>\n",
       "    .dataframe tbody tr th:only-of-type {\n",
       "        vertical-align: middle;\n",
       "    }\n",
       "\n",
       "    .dataframe tbody tr th {\n",
       "        vertical-align: top;\n",
       "    }\n",
       "\n",
       "    .dataframe thead th {\n",
       "        text-align: right;\n",
       "    }\n",
       "</style>\n",
       "<table border=\"1\" class=\"dataframe\">\n",
       "  <thead>\n",
       "    <tr style=\"text-align: right;\">\n",
       "      <th></th>\n",
       "      <th>類別</th>\n",
       "      <th>Unique ID</th>\n",
       "      <th>資料日期</th>\n",
       "      <th>客戶事件描述</th>\n",
       "    </tr>\n",
       "  </thead>\n",
       "  <tbody>\n",
       "    <tr>\n",
       "      <th>0</th>\n",
       "      <td>Call Out</td>\n",
       "      <td>AA2765</td>\n",
       "      <td>20180102 141000</td>\n",
       "      <td>[ECP] 去電確認開戶文件 客戶說後來去買美元保單就不開戶了</td>\n",
       "    </tr>\n",
       "    <tr>\n",
       "      <th>1</th>\n",
       "      <td>Call Out</td>\n",
       "      <td>AA3910</td>\n",
       "      <td>20180102 144300</td>\n",
       "      <td>[ECP]不方說  IPO MAIL</td>\n",
       "    </tr>\n",
       "    <tr>\n",
       "      <th>2</th>\n",
       "      <td>Call Out</td>\n",
       "      <td>AA3167</td>\n",
       "      <td>20180102 154500</td>\n",
       "      <td>[ECP] IPO 忙 先MAIL</td>\n",
       "    </tr>\n",
       "    <tr>\n",
       "      <th>3</th>\n",
       "      <td>Call Out</td>\n",
       "      <td>AA2355</td>\n",
       "      <td>20180102 194359</td>\n",
       "      <td>家庭戶 媽媽說女兒不開了，因為打工收入不穩定</td>\n",
       "    </tr>\n",
       "    <tr>\n",
       "      <th>4</th>\n",
       "      <td>Call Out</td>\n",
       "      <td>AA2778</td>\n",
       "      <td>20180103 111132</td>\n",
       "      <td>推Q1</td>\n",
       "    </tr>\n",
       "  </tbody>\n",
       "</table>\n",
       "</div>"
      ],
      "text/plain": [
       "         類別 Unique ID             資料日期                           客戶事件描述\n",
       "0  Call Out    AA2765  20180102 141000  [ECP] 去電確認開戶文件 客戶說後來去買美元保單就不開戶了\n",
       "1  Call Out    AA3910  20180102 144300               [ECP]不方說  IPO MAIL\n",
       "2  Call Out    AA3167  20180102 154500                [ECP] IPO 忙 先MAIL\n",
       "3  Call Out    AA2355  20180102 194359           家庭戶 媽媽說女兒不開了，因為打工收入不穩定\n",
       "4  Call Out    AA2778  20180103 111132                              推Q1"
      ]
     },
     "execution_count": 30,
     "metadata": {},
     "output_type": "execute_result"
    }
   ],
   "source": [
    "df = pd.read_excel (r'C:/Users/Alfred/Documents/GitHub/DataScience/HW1/data.xlsx')\n",
    "df.head()"
   ]
  },
  {
   "cell_type": "markdown",
   "metadata": {},
   "source": [
    "As we can see, the data has 4 attributes.\n",
    "1. Whether or not the call was a call out or a call in.\n",
    "2. Who the caller or the person who recieved the call is.\n",
    "3. The time and date the call was made.\n",
    "4. A summury of the content of the call.\n",
    "\n",
    "Let's analyze these attributes, first of all let's check out the types of call.\n",
    "We will count the amount of call ins and call outs by using sets."
   ]
  },
  {
   "cell_type": "code",
   "execution_count": 31,
   "metadata": {},
   "outputs": [
    {
     "data": {
      "text/plain": [
       "Counter({'Call Out': 999})"
      ]
     },
     "execution_count": 31,
     "metadata": {},
     "output_type": "execute_result"
    }
   ],
   "source": [
    "typeData = np.array(df[\"類別\"][:999])\n",
    "Counter(typeData)"
   ]
  },
  {
   "cell_type": "markdown",
   "metadata": {},
   "source": [
    "As it turns out, there only exsists call out data.\n",
    "Next, let us check the IDs.\n",
    "We'll see how many individuals there are whithin the 999 calls.\n",
    "Because there is a possability that some people recieved over 1 call."
   ]
  },
  {
   "cell_type": "code",
   "execution_count": 32,
   "metadata": {},
   "outputs": [
    {
     "data": {
      "text/plain": [
       "572"
      ]
     },
     "execution_count": 32,
     "metadata": {},
     "output_type": "execute_result"
    }
   ],
   "source": [
    "idData = np.array(df[\"Unique ID\"][:999])\n",
    "idCnt = set(idData)\n",
    "len(idCnt)"
   ]
  },
  {
   "cell_type": "markdown",
   "metadata": {},
   "source": [
    "As we can see, the total unique reciever of calls in the data is 572 people. <br>\n",
    "But this alone is not enough, for I'd like to know the frequency distribution. <br>\n",
    "So I will first count the frequency of each ID, and then count the frequency of number of appearances."
   ]
  },
  {
   "cell_type": "code",
   "execution_count": 40,
   "metadata": {},
   "outputs": [
    {
     "data": {
      "text/plain": [
       "{1: 350, 2: 123, 3: 50, 4: 20, 5: 15, 6: 8, 7: 4, 8: 1, 14: 1}"
      ]
     },
     "execution_count": 40,
     "metadata": {},
     "output_type": "execute_result"
    }
   ],
   "source": [
    "#Count the frequency of each ID\n",
    "idFreqCnt = dict()\n",
    "for i in IdData:\n",
    "    if i[:6] in idFreqCnt:\n",
    "        idFreqCnt[i[:6]] += 1\n",
    "    else:\n",
    "        idFreqCnt[i[:6]] = 1\n",
    "\n",
    "#Sort the dictionary\n",
    "numFreqCnt = sorted(idFreqCnt.items(),key = operator.itemgetter(1))\n",
    "\n",
    "#Count the frequency of each ID\n",
    "freqCnt = dict()\n",
    "for i in numFreqCnt:\n",
    "    if i[1] in freqCnt:\n",
    "        freqCnt[i[1]] += 1\n",
    "    else:\n",
    "        freqCnt[i[1]] = 1\n",
    "        \n",
    "freqCnt"
   ]
  },
  {
   "cell_type": "markdown",
   "metadata": {},
   "source": [
    "Seeing this data, I now want to visualize it."
   ]
  },
  {
   "cell_type": "code",
   "execution_count": 79,
   "metadata": {},
   "outputs": [
    {
     "data": {
      "image/png": "[encoded data removed]",
      "text/plain": [
       "<Figure size 432x288 with 1 Axes>"
      ]
     },
     "metadata": {
      "needs_background": "light"
     },
     "output_type": "display_data"
    }
   ],
   "source": [
    "index = []\n",
    "num = []\n",
    "cnt = 0\n",
    "for i in range(1,15):\n",
    "    index.append(i)\n",
    "    if index[i - 1] in freqCnt:\n",
    "        num.append(freqCnt[index[i - 1]])\n",
    "    else:\n",
    "        num.append(0)\n",
    "\n",
    "def plot():\n",
    "    plt.bar(index, num)\n",
    "    plt.xlabel('No of Calls', fontsize=10)\n",
    "    plt.ylabel('No of People', fontsize=10)\n",
    "    plt.xticks(index, fontsize=10)\n",
    "    plt.title('Bar graph of number of times a person recieves a call')\n",
    "    plt.show()\n",
    "    \n",
    "plot()"
   ]
  },
  {
   "cell_type": "code",
   "execution_count": 17,
   "metadata": {},
   "outputs": [
    {
     "data": {
      "text/plain": [
       "<generator object Tokenizer.cut at 0x000001B6B3F3B318>"
      ]
     },
     "execution_count": 17,
     "metadata": {},
     "output_type": "execute_result"
    }
   ],
   "source": [
    "jieba.cut(df[\"客戶事件描述\"][:998])"
   ]
  },
  {
   "cell_type": "code",
   "execution_count": null,
   "metadata": {},
   "outputs": [],
   "source": []
  }
 ],
 "metadata": {
  "kernelspec": {
   "display_name": "Python 3",
   "language": "python",
   "name": "python3"
  },
  "language_info": {
   "codemirror_mode": {
    "name": "ipython",
    "version": 3
   },
   "file_extension": ".py",
   "mimetype": "text/x-python",
   "name": "python",
   "nbconvert_exporter": "python",
   "pygments_lexer": "ipython3",
   "version": "3.7.1"
  }
 },
 "nbformat": 4,
 "nbformat_minor": 2
}
